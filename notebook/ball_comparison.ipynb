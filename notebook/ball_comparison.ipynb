{
 "cells": [
  {
   "cell_type": "code",
   "execution_count": null,
   "id": "de5e0ef5",
   "metadata": {},
   "outputs": [],
   "source": [
    "import cv2\n",
    "import os\n",
    "import matplotlib.pyplot as plt\n",
    "import numpy as np\n",
    "import itertools\n",
    "from collections import defaultdict\n",
    "from mqtt_python.modules.ball_detection import pose_est_ball_from_img, Ball_Color"
   ]
  },
  {
   "cell_type": "code",
   "execution_count": 11,
   "id": "e6b73a88",
   "metadata": {},
   "outputs": [],
   "source": [
    "IMG_PATH = '../mask_blue.png'\n",
    "IMG = cv2.imread(IMG_PATH)"
   ]
  },
  {
   "cell_type": "code",
   "execution_count": null,
   "id": "b64b58e5",
   "metadata": {},
   "outputs": [],
   "source": [
    "def pose_estimation_ball2(detection, mtx, dist):\n",
    "    x, y, r = detection\n",
    "    \n",
    "    undistorted_points = cv2.undistortPoints(\n",
    "    np.array([[[x, y]]], dtype=np.float32),\n",
    "    mtx,\n",
    "    dist\n",
    "    )\n",
    "    \n",
    "    fx = mtx[0, 0]\n",
    "    fy = mtx[1, 1]\n",
    "    f = (fx + fy) / 2\n",
    "\n",
    "    Z = f * (BALL_DIAMETER/2) / r\n",
    "    \n",
    "    x_n = undistorted_points[0][0][0]\n",
    "    y_n = undistorted_points[0][0][1]\n",
    "\n",
    "    X = x_n * Z\n",
    "    Y = y_n * Z\n",
    "    \n",
    "    translation_vector = np.array([[X], [Y], [Z]])\n",
    "    return translation_vector\n",
    "\n",
    "    \n",
    "\n",
    "def pose_est_ball_from_img2(image, Ball_Color = Ball_Color.BLUE):\n",
    "    \"\"\"\n",
    "    Estimate the pose of a ball given its image.\n",
    "    \"\"\"\n",
    "    \n",
    "    #Cut off the top 20% of the image\n",
    "    # image = image[int(image.shape[0]*0.3):, :]\n",
    "    \n",
    "    # Detect balls in the image\n",
    "    detections = detect_balls(image, show=True, color = Ball_Color)\n",
    "    if detections is None:\n",
    "        return []\n",
    "    \n",
    "    # Estimate the pose of each detected ball\n",
    "    poses = [pose_estimation_ball(detection, MTX, DIST) for detection in detections if detection is not None]\n",
    "    \n",
    "    # Sort by distance to camera\n",
    "    # poses = sorted(poses, key = lambda x: np.linalg.norm(x))\n",
    "    \n",
    "    return poses"
   ]
  },
  {
   "cell_type": "code",
   "execution_count": 12,
   "id": "a3698fe9",
   "metadata": {},
   "outputs": [],
   "source": [
    "\n",
    "A = pose_est_ball_from_img(IMG, Ball_Color=Ball_Color.BLUE)"
   ]
  },
  {
   "cell_type": "code",
   "execution_count": 13,
   "id": "25481a80",
   "metadata": {},
   "outputs": [
    {
     "data": {
      "text/plain": [
       "[array([[-0.2170805 ],\n",
       "        [-0.14112782],\n",
       "        [ 0.40208147]]),\n",
       " array([[-0.03712029],\n",
       "        [-0.33612246],\n",
       "        [ 0.9046833 ]]),\n",
       " array([[ 0.28464809],\n",
       "        [-0.45775873],\n",
       "        [ 1.03392378]]),\n",
       " array([[ 0.46381481],\n",
       "        [-0.45761178],\n",
       "        [ 1.03392378]])]"
      ]
     },
     "execution_count": 13,
     "metadata": {},
     "output_type": "execute_result"
    }
   ],
   "source": [
    "A"
   ]
  },
  {
   "cell_type": "code",
   "execution_count": 7,
   "id": "509e1490",
   "metadata": {},
   "outputs": [],
   "source": [
    "B = np.array([np.array([-0.22246914, -0.14470428,  0.40205969]),\n",
    " np.array([-0.03789932, -0.3424578 ,  0.9046343 ]),\n",
    " np.array([ 0.2909722 , -0.46851484,  1.03386778]),\n",
    " np.array([ 0.47418649, -0.46851484,  1.03386778])])"
   ]
  },
  {
   "cell_type": "code",
   "execution_count": 8,
   "id": "3f81b134",
   "metadata": {},
   "outputs": [
    {
     "ename": "ValueError",
     "evalue": "operands could not be broadcast together with shapes (2,3,1) (4,3) ",
     "output_type": "error",
     "traceback": [
      "\u001b[31m---------------------------------------------------------------------------\u001b[39m",
      "\u001b[31mValueError\u001b[39m                                Traceback (most recent call last)",
      "\u001b[36mCell\u001b[39m\u001b[36m \u001b[39m\u001b[32mIn[8]\u001b[39m\u001b[32m, line 1\u001b[39m\n\u001b[32m----> \u001b[39m\u001b[32m1\u001b[39m diff = \u001b[43mA\u001b[49m\u001b[43m \u001b[49m\u001b[43m-\u001b[49m\u001b[43m \u001b[49m\u001b[43mB\u001b[49m\n",
      "\u001b[31mValueError\u001b[39m: operands could not be broadcast together with shapes (2,3,1) (4,3) "
     ]
    }
   ],
   "source": [
    "diff = A - B"
   ]
  }
 ],
 "metadata": {
  "kernelspec": {
   "display_name": ".venv",
   "language": "python",
   "name": "python3"
  },
  "language_info": {
   "codemirror_mode": {
    "name": "ipython",
    "version": 3
   },
   "file_extension": ".py",
   "mimetype": "text/x-python",
   "name": "python",
   "nbconvert_exporter": "python",
   "pygments_lexer": "ipython3",
   "version": "3.12.4"
  }
 },
 "nbformat": 4,
 "nbformat_minor": 5
}
